{
  "cells": [
    {
      "cell_type": "markdown",
      "metadata": {
        "id": "view-in-github",
        "colab_type": "text"
      },
      "source": [
        "<a href=\"https://colab.research.google.com/github/RohanT766/Prompt-Mass-Object-Extraction/blob/main/Prompt_Mass_Object_Extraction.ipynb\" target=\"_parent\"><img src=\"https://colab.research.google.com/assets/colab-badge.svg\" alt=\"Open In Colab\"/></a>"
      ]
    },
    {
      "cell_type": "markdown",
      "source": [
        "### Make sure to run on GPU by going Runtime -> Change runtime type -> GPU or T4 GPU."
      ],
      "metadata": {
        "id": "X-PobLFrNK_T"
      }
    },
    {
      "cell_type": "code",
      "execution_count": null,
      "metadata": {
        "id": "cNga2xAPPfw2"
      },
      "outputs": [],
      "source": [
        "import cv2\n",
        "import numpy as np\n",
        "from PIL import Image\n",
        "from google.colab import files\n",
        "import matplotlib.pyplot as plt\n",
        "import os\n",
        "HOME = os.getcwd()\n",
        "\n",
        "# Create necessary directories\n",
        "INPUT_FOLDER = os.path.join(HOME, 'input_images')\n",
        "OUTPUT_FOLDER = os.path.join(HOME, 'output_images')\n",
        "os.makedirs(INPUT_FOLDER, exist_ok=True)\n",
        "os.makedirs(OUTPUT_FOLDER, exist_ok=True)"
      ]
    },
    {
      "cell_type": "markdown",
      "source": [
        "### Run and click \"Choose FIles\" and select the images to be uploaded."
      ],
      "metadata": {
        "id": "QJfv_qlTM3B8"
      }
    },
    {
      "cell_type": "code",
      "execution_count": null,
      "metadata": {
        "id": "yvOdQd1aQFpM"
      },
      "outputs": [],
      "source": [
        "# Upload a folder of images\n",
        "uploaded_files = files.upload()"
      ]
    },
    {
      "cell_type": "code",
      "execution_count": null,
      "metadata": {
        "id": "TCGjN_1SQJv0"
      },
      "outputs": [],
      "source": [
        "# Move uploaded images to the input folder\n",
        "for file_name in uploaded_files.keys():\n",
        "    os.rename(os.path.join(HOME, file_name), os.path.join(INPUT_FOLDER, file_name))"
      ]
    },
    {
      "cell_type": "code",
      "execution_count": null,
      "metadata": {
        "id": "MjQnYCDHQNHX"
      },
      "outputs": [],
      "source": [
        "# Clone the GroundingDINO repository\n",
        "!git clone https://github.com/IDEA-Research/GroundingDINO.git\n",
        "%cd {HOME}/GroundingDINO\n",
        "!git checkout -q 57535c5a79791cb76e36fdb64975271354f10251\n",
        "!pip install -q -e ."
      ]
    },
    {
      "cell_type": "code",
      "execution_count": null,
      "metadata": {
        "id": "3WsBGe2wSQy9"
      },
      "outputs": [],
      "source": [
        "!pip install torch\n",
        "!pip install torchvision"
      ]
    },
    {
      "cell_type": "code",
      "execution_count": null,
      "metadata": {
        "id": "O0iGsJcZSliy"
      },
      "outputs": [],
      "source": [
        "!pip install supervision==0.12.0"
      ]
    },
    {
      "cell_type": "markdown",
      "source": [
        "### If you receive an error saying \"You must restart the runtime in order to use newly installed versions.\" click \"RESTART RUNTIME\", run the first cell, and then skip down to this cell below."
      ],
      "metadata": {
        "id": "NnWUi4rzNvHl"
      }
    },
    {
      "cell_type": "code",
      "execution_count": null,
      "metadata": {
        "id": "ZExRVNYdQOsv"
      },
      "outputs": [],
      "source": [
        "# Create weights directory\n",
        "!mkdir -p {HOME}/weights"
      ]
    },
    {
      "cell_type": "code",
      "execution_count": null,
      "metadata": {
        "id": "gj7aIwrXQRzl"
      },
      "outputs": [],
      "source": [
        "# Download GroundingDINO model weights\n",
        "!wget -q https://github.com/IDEA-Research/GroundingDINO/releases/download/v0.1.0-alpha/groundingdino_swint_ogc.pth -P {HOME}/weights"
      ]
    },
    {
      "cell_type": "code",
      "execution_count": null,
      "metadata": {
        "id": "0Y-Q0h93U3XG"
      },
      "outputs": [],
      "source": [
        "!pip install 'git+https://github.com/facebookresearch/segment-anything.git'"
      ]
    },
    {
      "cell_type": "code",
      "execution_count": null,
      "metadata": {
        "id": "cQMLOtWMWVrD"
      },
      "outputs": [],
      "source": [
        "!wget -q https://dl.fbaipublicfiles.com/segment_anything/sam_vit_h_4b8939.pth"
      ]
    },
    {
      "cell_type": "code",
      "execution_count": null,
      "metadata": {
        "id": "oOq9-V7iQV1A"
      },
      "outputs": [],
      "source": [
        "# Set up the environment\n",
        "import torch\n",
        "DEVICE = torch.device('cuda:0' if torch.cuda.is_available() else 'cpu')"
      ]
    },
    {
      "cell_type": "code",
      "execution_count": null,
      "metadata": {
        "id": "bVy6VKGMQYyL"
      },
      "outputs": [],
      "source": [
        "# Set model paths\n",
        "CHECKPOINT_PATH = f'{HOME}/weights/sam_vit_h_4b8939.pth'\n",
        "GROUNDING_DINO_CONFIG_PATH = f'{HOME}/GroundingDINO/groundingdino/config/GroundingDINO_SwinT_OGC.py'\n",
        "GROUNDING_DINO_CHECKPOINT_PATH = f'{HOME}/weights/groundingdino_swint_ogc.pth'"
      ]
    },
    {
      "cell_type": "code",
      "execution_count": null,
      "metadata": {
        "id": "sbb2ijlDQnlO"
      },
      "outputs": [],
      "source": [
        "import supervision as sv\n",
        "from groundingdino.util.inference import Model\n",
        "from segment_anything import sam_model_registry, SamPredictor"
      ]
    },
    {
      "cell_type": "code",
      "execution_count": null,
      "metadata": {
        "id": "eMo7As9OVope"
      },
      "outputs": [],
      "source": [
        "GD_model = Model(model_config_path=GROUNDING_DINO_CONFIG_PATH, model_checkpoint_path=GROUNDING_DINO_CHECKPOINT_PATH)"
      ]
    },
    {
      "cell_type": "code",
      "execution_count": null,
      "metadata": {
        "id": "YY42o6lgQpeT"
      },
      "outputs": [],
      "source": [
        "# Load models\n",
        "MODEL_TYPE = \"vit_h\"\n",
        "CHECKPOINT_PATH = '/content/sam_vit_h_4b8939.pth'\n",
        "sam = sam_model_registry[MODEL_TYPE](checkpoint=CHECKPOINT_PATH).to(device=DEVICE)\n",
        "mask_predictor = SamPredictor(sam)"
      ]
    },
    {
      "cell_type": "markdown",
      "source": [
        "### Input the object that you wish to extract out of all the images."
      ],
      "metadata": {
        "id": "OPdW2L8OOVMU"
      }
    },
    {
      "cell_type": "code",
      "execution_count": null,
      "metadata": {
        "id": "KVOjcXope2lY"
      },
      "outputs": [],
      "source": [
        "# Get the text prompt from the user\n",
        "text_prompt = []\n",
        "text_prompt.append(input(\"Object to segment: \"))"
      ]
    },
    {
      "cell_type": "code",
      "source": [
        "# Detect and segment objects for each image\n",
        "for image_name in os.listdir(INPUT_FOLDER):\n",
        "    image_path = os.path.join(INPUT_FOLDER, image_name)\n",
        "    image_bgr = cv2.imread(image_path)\n",
        "\n",
        "    # Check if image_bgr is empty\n",
        "    if image_bgr is None:\n",
        "        print(f\"Skipping image {image_name} due to empty image_bgr\")\n",
        "        continue\n",
        "\n",
        "    image_rgb = cv2.cvtColor(image_bgr, cv2.COLOR_BGR2RGB)\n",
        "    image_original = image_bgr\n",
        "\n",
        "    # Detect objects using Grounding Dino\n",
        "    detections = GD_model.predict_with_classes(\n",
        "        image=image_rgb,\n",
        "        classes=text_prompt,\n",
        "        box_threshold=0.30,\n",
        "        text_threshold=0.25\n",
        "    )\n",
        "    print(detections)\n",
        "    print(detections.xyxy, type(detections.xyxy))\n",
        "    detected_boxes = detections.xyxy\n",
        "    class_id = detections.class_id\n",
        "    print(class_id)\n",
        "\n",
        "    # Assuming class_id contains the class IDs of the detected objects\n",
        "    class_labels = [f\"Object_{id}\" for id in class_id]\n",
        "\n",
        "    box_annotator = sv.BoxAnnotator()\n",
        "    annotated_frame = box_annotator.annotate(scene=image_bgr.copy(), detections=detections, skip_label=False, labels=class_labels)\n",
        "\n",
        "    mask_annotator = sv.MaskAnnotator(color=sv.Color.blue())\n",
        "    segmented_mask = []\n",
        "    counter = 0\n",
        "    for mybox in detected_boxes:\n",
        "        mybox = np.array(mybox)\n",
        "        print(mybox)\n",
        "\n",
        "        try:\n",
        "            mask_predictor.set_image(image_rgb)\n",
        "            masks, scores, logits = mask_predictor.predict(\n",
        "                point_coords=None,\n",
        "                point_labels=None,\n",
        "                box=mybox,\n",
        "                multimask_output=False\n",
        "            )\n",
        "\n",
        "            segmented_mask.append(masks)\n",
        "            print(len(masks), masks.shape)\n",
        "\n",
        "            # plot mask on image using supervision\n",
        "            detections = sv.Detections(\n",
        "                xyxy=sv.mask_to_xyxy(masks=masks),\n",
        "                mask=masks\n",
        "            )\n",
        "\n",
        "            detections = detections[detections.area == np.max(detections.area)]\n",
        "            print(text_prompt[class_id[counter]])\n",
        "\n",
        "            annotated_image = box_annotator.annotate(scene=image_original.copy(), detections=detections, skip_label=False, labels=[text_prompt[class_id[counter]]])\n",
        "            annotated_image = mask_annotator.annotate(scene=annotated_image.copy(), detections=detections)\n",
        "            image_original = annotated_image\n",
        "\n",
        "            counter+=1\n",
        "\n",
        "            #sv.plot_images_grid(\n",
        "              #images=[image_bgr, annotated_image],\n",
        "              #grid_size=(1,2),\n",
        "              #titles=['Original Image', 'Mask Image']\n",
        "            #)\n",
        "\n",
        "            print(len(segmented_mask), type(segmented_mask[0]), segmented_mask[0].shape)\n",
        "\n",
        "            for i in range(len(segmented_mask)):\n",
        "\n",
        "              segmented_mask[i] = segmented_mask[i].transpose(1,2,0)\n",
        "              segmented_mask[i] = np.array(segmented_mask[i]*255).astype('uint8')\n",
        "              segmented_mask[i]  = cv2.cvtColor(segmented_mask[i] , cv2.COLOR_GRAY2BGR)\n",
        "\n",
        "\n",
        "            print(segmented_mask[0].shape)\n",
        "\n",
        "            segmented_image = segmented_mask[0]\n",
        "\n",
        "            for i in range(len(segmented_mask)):\n",
        "                try:\n",
        "                    segmented_image = cv2.bitwise_or(segmented_image, segmented_mask[i+1])\n",
        "                except:\n",
        "                    pass\n",
        "\n",
        "            #sv.plot_image(segmented_image)\n",
        "\n",
        "            segmented_image = cv2.bitwise_and(segmented_image, image_bgr)\n",
        "            #sv.plot_image(segmented_image)\n",
        "\n",
        "            segmented_image[np.where((segmented_image == [0, 0, 0]).all(axis=2))] = [255, 255, 255]\n",
        "            #sv.plot_image(segmented_image)\n",
        "\n",
        "            sv.plot_images_grid(\n",
        "                images=[image_bgr, annotated_image, segmented_image],\n",
        "                grid_size=(1, 3),\n",
        "                titles=['Original Image', 'Annotated Image', 'Segmented Image'],\n",
        "                #size=(48,48)\n",
        "            )\n",
        "\n",
        "            # Convert BGR to RGB using OpenCV\n",
        "            segmented_image_rgb = cv2.cvtColor(segmented_image, cv2.COLOR_BGR2RGB)\n",
        "\n",
        "            # Convert the RGB image array to a PIL image\n",
        "            pil_image = Image.fromarray(segmented_image_rgb)\n",
        "\n",
        "            # Define the path to save the image\n",
        "            original_image_name = os.path.basename(image_name)  # Update with the actual path to your original image\n",
        "            output_image_path = os.path.splitext(original_image_name)[0] + '_segmented.png'\n",
        "            output_folder = '/content/output_images/'\n",
        "            os.makedirs(output_folder, exist_ok=True)  # Create the output_images folder if it doesn't exist\n",
        "\n",
        "            output_image_path = os.path.join(output_folder, os.path.splitext(original_image_name)[0] + '_segmented.png')\n",
        "\n",
        "            # Save the PIL image as a file\n",
        "            pil_image.save(output_image_path)\n",
        "\n",
        "        except cv2.error as e:\n",
        "            print(f\"Skipping image {image_name} due to OpenCV error: {e}\")\n",
        "            continue\n"
      ],
      "metadata": {
        "id": "tJBO8Iha12x0"
      },
      "execution_count": null,
      "outputs": []
    },
    {
      "cell_type": "markdown",
      "source": [
        "### Run to download segmented images."
      ],
      "metadata": {
        "id": "QH12hWS7Olbf"
      }
    },
    {
      "cell_type": "code",
      "source": [
        "import shutil\n",
        "\n",
        "# Define the folder containing your PNG images\n",
        "folder_path = '/content/output_images'  # Change this path if needed\n",
        "\n",
        "# Define the name of the ZIP file\n",
        "zip_filename = '/content/output_images.zip'  # Change the filename if needed\n",
        "\n",
        "# Create a ZIP file containing the PNG images\n",
        "shutil.make_archive(zip_filename.split('.zip')[0], 'zip', folder_path)\n",
        "\n",
        "# Move the ZIP file to the current directory\n",
        "shutil.move(zip_filename + '.zip', zip_filename)\n",
        "\n",
        "# Check if the ZIP file was created successfully\n",
        "if os.path.exists(zip_filename):\n",
        "    print(f'ZIP file \"{zip_filename}\" created successfully!')\n",
        "else:\n",
        "    print(f'Failed to create ZIP file.')\n",
        "\n",
        "# Provide a download link for the ZIP file\n",
        "from google.colab import files\n",
        "files.download(zip_filename)"
      ],
      "metadata": {
        "id": "m1sjNfHEpMTq"
      },
      "execution_count": null,
      "outputs": []
    }
  ],
  "metadata": {
    "colab": {
      "provenance": [],
      "authorship_tag": "ABX9TyPBf30xxf4EsgoqbJSb5zHz",
      "include_colab_link": true
    },
    "kernelspec": {
      "display_name": "Python 3",
      "name": "python3"
    },
    "language_info": {
      "name": "python"
    }
  },
  "nbformat": 4,
  "nbformat_minor": 0
}